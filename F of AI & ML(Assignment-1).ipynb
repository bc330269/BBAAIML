{
  "nbformat": 4,
  "nbformat_minor": 0,
  "metadata": {
    "colab": {
      "name": "dt 9 & 12-02-21",
      "provenance": [],
      "authorship_tag": "ABX9TyOAtZLR3qSguhamX6iFZiRk",
      "include_colab_link": true
    },
    "kernelspec": {
      "name": "python3",
      "display_name": "Python 3"
    }
  },
  "cells": [
    {
      "cell_type": "markdown",
      "metadata": {
        "id": "view-in-github",
        "colab_type": "text"
      },
      "source": [
        "<a href=\"https://colab.research.google.com/github/bc330269/BBAAIML/blob/main/F%20of%20AI%20%26%20ML(Assignment-1).ipynb\" target=\"_parent\"><img src=\"https://colab.research.google.com/assets/colab-badge.svg\" alt=\"Open In Colab\"/></a>"
      ]
    },
    {
      "cell_type": "code",
      "metadata": {
        "colab": {
          "base_uri": "https://localhost:8080/"
        },
        "id": "KCClpadESW1e",
        "outputId": "b4be68a0-3bfb-4bf2-9ce9-2dd08fa0297c"
      },
      "source": [
        "x=10\r\n",
        "if x<10:\r\n",
        "  print('Smaller')\r\n",
        "if x>20:\r\n",
        "  print('Bigger')\r\n",
        "print('Finish')"
      ],
      "execution_count": null,
      "outputs": [
        {
          "output_type": "stream",
          "text": [
            "Finish\n"
          ],
          "name": "stdout"
        }
      ]
    },
    {
      "cell_type": "code",
      "metadata": {
        "colab": {
          "base_uri": "https://localhost:8080/"
        },
        "id": "dkYTktlhoWYa",
        "outputId": "2d240295-dec5-474f-9453-98a221001bd2"
      },
      "source": [
        "x=11\n",
        "if x<=10:\n",
        "  print(\"Smaller\")\n",
        "elif x>10 and x<=19:\n",
        "  print(\"Neutral\")\n",
        "else:\n",
        "  print(\"Bigger\")"
      ],
      "execution_count": 7,
      "outputs": [
        {
          "output_type": "stream",
          "text": [
            "Neutral\n"
          ],
          "name": "stdout"
        }
      ]
    },
    {
      "cell_type": "code",
      "metadata": {
        "colab": {
          "base_uri": "https://localhost:8080/"
        },
        "id": "m_fnYbIdpkR8",
        "outputId": "b18ab124-d957-4d24-82d7-87cb1008df74"
      },
      "source": [
        "Age =int(input(\"Please enter your Age: \"))\n",
        "if (Age>=20 and Age<=30):\n",
        "  print(\"Ticket price is Rs 100/-\")\n",
        "elif (Age>30 and Age<=40):\n",
        "  print(\"Ticket price is Rs 150/-\")\n",
        "elif (Age>40 and Age<=50):\n",
        "  print(\"Ticket price is Rs 200/-\")\n",
        "elif Age>50:\n",
        "  print(\"Ticket price is Rs 250/-\")\n",
        "else:\n",
        "  print(\"You're not eligible to buy a ticket\")"
      ],
      "execution_count": 25,
      "outputs": [
        {
          "output_type": "stream",
          "text": [
            "Please enter your Age: 42\n",
            "Ticket price is Rs 200/-\n"
          ],
          "name": "stdout"
        }
      ]
    },
    {
      "cell_type": "code",
      "metadata": {
        "colab": {
          "base_uri": "https://localhost:8080/"
        },
        "id": "qHe5rXLhz6_L",
        "outputId": "2c73dba4-1517-447a-907b-51a406e5b1a9"
      },
      "source": [
        "Age =int(input(\"Please enter your Age: \"))\n",
        "if (Age>=20 and Age<=30):\n",
        "  print(\"Ticket price is Rs 100/-\")\n",
        "elif (Age>30 and Age<=40):\n",
        "  print(\"Ticket price is Rs 150/-\")\n",
        "elif (Age>40 and Age<=50):\n",
        "  print(\"Ticket price is Rs 200/-\")\n",
        "elif Age>50:\n",
        "  print(\"Ticket price is Rs 250/-\")\n",
        "else:\n",
        "  print(\"You're not eligible to buy a ticket\")"
      ],
      "execution_count": 40,
      "outputs": [
        {
          "output_type": "stream",
          "text": [
            "Please enter your Age: 42\n",
            "Ticket price is Rs 200/-\n"
          ],
          "name": "stdout"
        }
      ]
    },
    {
      "cell_type": "markdown",
      "metadata": {
        "id": "wKUzV89p2SF-"
      },
      "source": [
        "Abhisek Nayak11:35 AM\n",
        "IF Statement Exercise: \n",
        "\n",
        "Assign 8 to the variable x and 15 to the variable y.\n",
        "\n",
        "In the same cell, create 2 conditional statements.\n",
        "\n",
        "Let the first one print \"At least one of the conditions is satisfied.\" if x is greater than 3 or y is even.\n",
        "\n",
        "Let the second one print \"Neither condition is satisfied.\" if x is less than or equal to 3 and y is odd.\n",
        "\n",
        "Change the values assigned to x and y and re-run the cell to verify your code still works.\n",
        "Write an if statement that asks for the user's name via input() function. \n",
        "If the name is \"Bond\" make it print \"Welcome on board 007.\" \n",
        "Otherwise make it print \"Good morning NAME\". (Replace Name with user's name)\n",
        "2.Write an if statement that asks for the user's name via input() function. \n",
        "If the name is \"Bond\" make it print \"Welcome on board 007.\" \n",
        "Otherwise make it print \"Good morning NAME\". (Replace Name with user's name)\n",
        "1.IF Statement Exercise: \n",
        "\n",
        "Assign 8 to the variable x and 15 to the variable y.\n",
        "\n",
        "In the same cell, create 2 conditional statements.\n",
        "\n",
        "Let the first one print \"At least one of the conditions is satisfied.\" if x is greater than 3 or y is even.\n",
        "\n",
        "Let the second one print \"Neither condition is satisfied.\" if x is less than or equal to 3 and y is odd.\n",
        "\n",
        "Change the values assigned to x and y and re-run the cell to verify your code still works"
      ]
    },
    {
      "cell_type": "code",
      "metadata": {
        "colab": {
          "base_uri": "https://localhost:8080/"
        },
        "id": "WbS66ehoev7d",
        "outputId": "4c3ca6d8-c3d5-4a50-d487-e09ab3383277"
      },
      "source": [
        "x=4\n",
        "y=12\n",
        "if x>3 or y%2==0:\n",
        "  print(\"Atlest one of the condition id satisfied\")\n",
        "if x<=3 and y%3==0:\n",
        "    print(\"Neither contion is satisfied\")"
      ],
      "execution_count": 20,
      "outputs": [
        {
          "output_type": "stream",
          "text": [
            "Atlest one of the condition id satisfied\n"
          ],
          "name": "stdout"
        }
      ]
    },
    {
      "cell_type": "code",
      "metadata": {
        "colab": {
          "base_uri": "https://localhost:8080/"
        },
        "id": "R1cVPkXLgC2O",
        "outputId": "eaeb3ec3-4911-4ce2-e0ea-ac3cbe0a32d9"
      },
      "source": [
        "x=input(\"First Name: \")\n",
        "y=input(\"Last Name: \")\n",
        "if y==\"Bond\":\n",
        "  print(\"Welcome on board 007.\")\n",
        "else:\n",
        "  print(\"Good morning \"+x+y)"
      ],
      "execution_count": 3,
      "outputs": [
        {
          "output_type": "stream",
          "text": [
            "First Name: Bharath \n",
            "Last Name: Chandra \n",
            "Good morning Bharath Chandra \n"
          ],
          "name": "stdout"
        }
      ]
    },
    {
      "cell_type": "code",
      "metadata": {
        "colab": {
          "base_uri": "https://localhost:8080/"
        },
        "id": "VXFKKvQylZX2",
        "outputId": "a10926fb-61d8-41c5-ad8d-88fee5162138"
      },
      "source": [
        "x=input(\"Name: \")\n",
        "if x==\"Shaktiman\":\n",
        "  print(\"Sorry \" +x)\n",
        "else:\n",
        "  print(\"Good Morning \"+x)"
      ],
      "execution_count": 24,
      "outputs": [
        {
          "output_type": "stream",
          "text": [
            "Name: Bharath\n",
            "Good Morning Bharath\n"
          ],
          "name": "stdout"
        }
      ]
    }
  ]
}